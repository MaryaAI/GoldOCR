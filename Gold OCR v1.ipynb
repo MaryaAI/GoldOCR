{
 "cells": [
  {
   "cell_type": "code",
   "execution_count": 1,
   "id": "b5bb78f7",
   "metadata": {},
   "outputs": [
    {
     "name": "stdout",
     "output_type": "stream",
     "text": [
      "SUISSE\n",
      "Boo :\n",
      "y\n",
      "222222 |\n",
      "\n"
     ]
    }
   ],
   "source": [
    "import pytesseract\n",
    "import cv2\n",
    "\n",
    "# Load the image\n",
    "img = cv2.imread(r\"C:\\Users\\ASUS\\Desktop\\Gold OCR\\s2.jpg\")\n",
    "\n",
    "# Preprocess the image (optional)\n",
    "gray = cv2.cvtColor(img, cv2.COLOR_BGR2GRAY)\n",
    "thresh = cv2.threshold(gray, 0, 255, cv2.THRESH_BINARY + cv2.THRESH_OTSU)[1]\n",
    "\n",
    "\n",
    "\n",
    "# Extract text with configuration options\n",
    "text = pytesseract.image_to_string(thresh, config='--psm 6 tessedit_char_whitelist=0123456789')\n",
    "\n",
    "# Print the extracted numbers\n",
    "print(text)\n",
    "\n",
    "# Optional: Validate extracted numbers using regular expressions"
   ]
  },
  {
   "cell_type": "code",
   "execution_count": null,
   "id": "249295a2",
   "metadata": {},
   "outputs": [],
   "source": []
  }
 ],
 "metadata": {
  "kernelspec": {
   "display_name": "Python 3 (ipykernel)",
   "language": "python",
   "name": "python3"
  },
  "language_info": {
   "codemirror_mode": {
    "name": "ipython",
    "version": 3
   },
   "file_extension": ".py",
   "mimetype": "text/x-python",
   "name": "python",
   "nbconvert_exporter": "python",
   "pygments_lexer": "ipython3",
   "version": "3.11.3"
  }
 },
 "nbformat": 4,
 "nbformat_minor": 5
}
